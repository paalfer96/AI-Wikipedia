{
 "cells": [
  {
   "cell_type": "code",
   "execution_count": 1,
   "id": "48914ee5-53a2-407c-a209-04b87a6f7d97",
   "metadata": {},
   "outputs": [],
   "source": [
    "from urllib.request import urlopen\n",
    "from bs4 import BeautifulSoup\n",
    "import re\n",
    "from urllib.parse import quote\n",
    "from tqdm import tqdm"
   ]
  },
  {
   "cell_type": "code",
   "execution_count": 2,
   "id": "a1c9661e-581a-404f-b05f-9c5211f2ebe1",
   "metadata": {},
   "outputs": [
    {
     "data": {
      "text/plain": [
       "['https://en.wikipedia.org/wiki/Panthera',\n",
       " 'https://en.wikipedia.org/wiki/Ukrainian collaboration with Nazi Germany',\n",
       " 'https://en.wikipedia.org/wiki/Tiger',\n",
       " 'https://en.wikipedia.org/wiki/Smilodon',\n",
       " 'https://en.wikipedia.org/wiki/Liger',\n",
       " 'https://en.wikipedia.org/wiki/Animal Face-Off',\n",
       " 'https://en.wikipedia.org/wiki/MacOS version history',\n",
       " 'https://en.wikipedia.org/wiki/Cougar',\n",
       " 'https://en.wikipedia.org/wiki/MacOS',\n",
       " 'https://en.wikipedia.org/wiki/Panthera hybrid',\n",
       " 'https://en.wikipedia.org/wiki/Tigon',\n",
       " 'https://en.wikipedia.org/wiki/Pantherinae',\n",
       " 'https://en.wikipedia.org/wiki/Ryusuke Taguchi',\n",
       " 'https://en.wikipedia.org/wiki/Jushin Liger',\n",
       " 'https://en.wikipedia.org/wiki/Oncilla']"
      ]
     },
     "execution_count": 2,
     "metadata": {},
     "output_type": "execute_result"
    }
   ],
   "source": [
    "from mainwords import MainWordExtractor\n",
    "from searcher import Searcher\n",
    "\n",
    "sentence = \"Give me the best results for a tiger running againts a lion\"\n",
    "k = 15\n",
    "\n",
    "extractor = MainWordExtractor()\n",
    "ss = Searcher()\n",
    "\n",
    "search = extractor.extract_mainwords_from_sentence(sentence=sentence)\n",
    "url= ss.create_search_element(search, top_k = k)\n",
    "ss.create_article_url(url)"
   ]
  },
  {
   "cell_type": "code",
   "execution_count": 2,
   "id": "ec237b25-6691-4cbc-af40-3f9b467d44f0",
   "metadata": {},
   "outputs": [],
   "source": [
    "search_url = ['https://en.wikipedia.org/wiki/Panthera',\n",
    " 'https://en.wikipedia.org/wiki/Ukrainian collaboration with Nazi Germany',\n",
    " 'https://en.wikipedia.org/wiki/Tiger',\n",
    " 'https://en.wikipedia.org/wiki/Smilodon',\n",
    " 'https://en.wikipedia.org/wiki/Liger',\n",
    " 'https://en.wikipedia.org/wiki/Animal Face-Off',\n",
    " 'https://en.wikipedia.org/wiki/MacOS version history',\n",
    " 'https://en.wikipedia.org/wiki/Cougar',\n",
    " 'https://en.wikipedia.org/wiki/MacOS',\n",
    " 'https://en.wikipedia.org/wiki/Panthera hybrid',\n",
    " 'https://en.wikipedia.org/wiki/Tigon',\n",
    " 'https://en.wikipedia.org/wiki/Pantherinae',\n",
    " 'https://en.wikipedia.org/wiki/Ryusuke Taguchi',\n",
    " 'https://en.wikipedia.org/wiki/Jushin Liger',\n",
    " 'https://en.wikipedia.org/wiki/Oncilla']"
   ]
  },
  {
   "cell_type": "code",
   "execution_count": 3,
   "id": "1d78b301-5206-417a-868f-08ff05b0eae2",
   "metadata": {},
   "outputs": [],
   "source": [
    "from preprocess.cleaner import TextCleaner\n",
    "\n",
    "cleaner = TextCleaner()"
   ]
  },
  {
   "cell_type": "code",
   "execution_count": 4,
   "id": "61a377fa-db50-409e-9dfc-1c54ff023780",
   "metadata": {},
   "outputs": [
    {
     "name": "stderr",
     "output_type": "stream",
     "text": [
      "100%|████████████████████████████████████████████████████████████████████████████████| 15/15 [00:00<00:00, 3005.81it/s]\n"
     ]
    }
   ],
   "source": [
    "bbdd = cleaner.from_urls_to_dict(search_url)"
   ]
  },
  {
   "cell_type": "code",
   "execution_count": 5,
   "id": "cba0b72a-7f23-400d-9d18-4806fc28b4de",
   "metadata": {},
   "outputs": [],
   "source": [
    "hashe = bbdd[0][\"meta\"][\"hash\"]"
   ]
  },
  {
   "cell_type": "code",
   "execution_count": 6,
   "id": "816110f7-52bb-4916-8643-4592881088c0",
   "metadata": {},
   "outputs": [
    {
     "data": {
      "text/plain": [
       "'795f84ceb8ceaaf044019b85f2d55764067c5a8762ed954da1ee93a301f3bd66'"
      ]
     },
     "execution_count": 6,
     "metadata": {},
     "output_type": "execute_result"
    }
   ],
   "source": [
    "hashe"
   ]
  },
  {
   "cell_type": "code",
   "execution_count": 7,
   "id": "41008541-b3af-4621-a0ba-b9d2ec0fb2cc",
   "metadata": {},
   "outputs": [],
   "source": [
    "from question_generation.question_gen import QuestionGenerator"
   ]
  },
  {
   "cell_type": "code",
   "execution_count": 8,
   "id": "bbe15c77-8e14-4ecb-b079-2182e26a02e9",
   "metadata": {},
   "outputs": [],
   "source": [
    "question_gen = QuestionGenerator(top_k=3)"
   ]
  },
  {
   "cell_type": "code",
   "execution_count": 9,
   "id": "d4cd9fcc-79c0-4313-97ec-8bba5529b26f",
   "metadata": {},
   "outputs": [
    {
     "name": "stderr",
     "output_type": "stream",
     "text": [
      "100%|████████████████████████████████████████████████████████████████████████████████████| 4/4 [00:03<00:00,  1.17it/s]\n"
     ]
    }
   ],
   "source": [
    "df = question_gen.generate_question_dataframe(texts=bbdd , article_hash=hashe)"
   ]
  },
  {
   "cell_type": "code",
   "execution_count": 10,
   "id": "9b3d54ea-56a3-421e-8b4b-8063379bfac4",
   "metadata": {},
   "outputs": [
    {
     "data": {
      "text/html": [
       "<div>\n",
       "<style scoped>\n",
       "    .dataframe tbody tr th:only-of-type {\n",
       "        vertical-align: middle;\n",
       "    }\n",
       "\n",
       "    .dataframe tbody tr th {\n",
       "        vertical-align: top;\n",
       "    }\n",
       "\n",
       "    .dataframe thead th {\n",
       "        text-align: right;\n",
       "    }\n",
       "</style>\n",
       "<table border=\"1\" class=\"dataframe\">\n",
       "  <thead>\n",
       "    <tr style=\"text-align: right;\">\n",
       "      <th></th>\n",
       "      <th>content</th>\n",
       "      <th>hash</th>\n",
       "      <th>question</th>\n",
       "      <th>cos_sim</th>\n",
       "    </tr>\n",
       "  </thead>\n",
       "  <tbody>\n",
       "    <tr>\n",
       "      <th>0</th>\n",
       "      <td>data from fossils suggest that the american li...</td>\n",
       "      <td>795f84ceb8ceaaf044019b85f2d55764067c5a8762ed95...</td>\n",
       "      <td>What is the sister lineage of the tiger?</td>\n",
       "      <td>0.576670</td>\n",
       "    </tr>\n",
       "    <tr>\n",
       "      <th>1</th>\n",
       "      <td>fibro-elastic pad. these characteristics enabl...</td>\n",
       "      <td>795f84ceb8ceaaf044019b85f2d55764067c5a8762ed95...</td>\n",
       "      <td>What is the name of the oldest known panthera ...</td>\n",
       "      <td>0.537946</td>\n",
       "    </tr>\n",
       "    <tr>\n",
       "      <th>2</th>\n",
       "      <td>and leopard subspecies are questionable becaus...</td>\n",
       "      <td>795f84ceb8ceaaf044019b85f2d55764067c5a8762ed95...</td>\n",
       "      <td>What does the taxonomic assessment in mammal s...</td>\n",
       "      <td>0.453723</td>\n",
       "    </tr>\n",
       "    <tr>\n",
       "      <th>3</th>\n",
       "      <td>fibro-elastic pad. these characteristics enabl...</td>\n",
       "      <td>795f84ceb8ceaaf044019b85f2d55764067c5a8762ed95...</td>\n",
       "      <td>What is the genus neofelis sister to?</td>\n",
       "      <td>0.428126</td>\n",
       "    </tr>\n",
       "    <tr>\n",
       "      <th>4</th>\n",
       "      <td>and leopard subspecies are questionable becaus...</td>\n",
       "      <td>795f84ceb8ceaaf044019b85f2d55764067c5a8762ed95...</td>\n",
       "      <td>What is an admixture region between north and ...</td>\n",
       "      <td>0.423850</td>\n",
       "    </tr>\n",
       "    <tr>\n",
       "      <th>5</th>\n",
       "      <td>fibro-elastic pad. these characteristics enabl...</td>\n",
       "      <td>795f84ceb8ceaaf044019b85f2d55764067c5a8762ed95...</td>\n",
       "      <td>What is the genus neofelis?</td>\n",
       "      <td>0.392180</td>\n",
       "    </tr>\n",
       "    <tr>\n",
       "      <th>6</th>\n",
       "      <td>and leopard subspecies are questionable becaus...</td>\n",
       "      <td>795f84ceb8ceaaf044019b85f2d55764067c5a8762ed95...</td>\n",
       "      <td>What is the genus panthera based on?</td>\n",
       "      <td>0.329502</td>\n",
       "    </tr>\n",
       "  </tbody>\n",
       "</table>\n",
       "</div>"
      ],
      "text/plain": [
       "                                             content  \\\n",
       "0  data from fossils suggest that the american li...   \n",
       "1  fibro-elastic pad. these characteristics enabl...   \n",
       "2  and leopard subspecies are questionable becaus...   \n",
       "3  fibro-elastic pad. these characteristics enabl...   \n",
       "4  and leopard subspecies are questionable becaus...   \n",
       "5  fibro-elastic pad. these characteristics enabl...   \n",
       "6  and leopard subspecies are questionable becaus...   \n",
       "\n",
       "                                                hash  \\\n",
       "0  795f84ceb8ceaaf044019b85f2d55764067c5a8762ed95...   \n",
       "1  795f84ceb8ceaaf044019b85f2d55764067c5a8762ed95...   \n",
       "2  795f84ceb8ceaaf044019b85f2d55764067c5a8762ed95...   \n",
       "3  795f84ceb8ceaaf044019b85f2d55764067c5a8762ed95...   \n",
       "4  795f84ceb8ceaaf044019b85f2d55764067c5a8762ed95...   \n",
       "5  795f84ceb8ceaaf044019b85f2d55764067c5a8762ed95...   \n",
       "6  795f84ceb8ceaaf044019b85f2d55764067c5a8762ed95...   \n",
       "\n",
       "                                            question   cos_sim  \n",
       "0           What is the sister lineage of the tiger?  0.576670  \n",
       "1  What is the name of the oldest known panthera ...  0.537946  \n",
       "2  What does the taxonomic assessment in mammal s...  0.453723  \n",
       "3              What is the genus neofelis sister to?  0.428126  \n",
       "4  What is an admixture region between north and ...  0.423850  \n",
       "5                        What is the genus neofelis?  0.392180  \n",
       "6               What is the genus panthera based on?  0.329502  "
      ]
     },
     "execution_count": 10,
     "metadata": {},
     "output_type": "execute_result"
    }
   ],
   "source": [
    "df"
   ]
  },
  {
   "cell_type": "code",
   "execution_count": 27,
   "id": "e9e1c3db-a5a6-459a-b071-e20d6e67faf1",
   "metadata": {},
   "outputs": [],
   "source": [
    "def run_model(input_string, top_k=3, num_beams=5):\n",
    "    input_ids = tokenizer.encode(input_string, return_tensors=\"pt\")\n",
    "    res = model.generate(\n",
    "        input_ids,\n",
    "        num_return_sequences=top_k,\n",
    "        num_beams=num_beams,\n",
    "        max_length=64,\n",
    "        early_stopping=True\n",
    "    )\n",
    "    output = tokenizer.batch_decode(res, skip_special_tokens=True)\n",
    "    return output"
   ]
  },
  {
   "cell_type": "code",
   "execution_count": 28,
   "id": "087f1984-4255-4058-b2dc-4ebb9467abca",
   "metadata": {},
   "outputs": [],
   "source": [
    "text = \"\"\"\n",
    "Elephants are the largest existing land animals. Three living species are currently recognised: the African bush elephant, the African forest elephant, and the Asian elephant. They are the only surviving members of the family Elephantidae and the order Proboscidea; extinct relatives include mammoths and mastodons. Distinctive features of elephants include a long proboscis called a trunk, tusks, large ear flaps, pillar-like legs, and tough but sensitive grey skin. The trunk is prehensile, bringing food and water to the mouth, and grasping objects. Tusks, which are derived from the incisor teeth, serve both as weapons and as tools for moving objects and digging. The large ear flaps assist in maintaining a constant body temperature as well as in communication. African elephants have larger ears and concave backs, whereas Asian elephants have smaller ears, and convex or level backs. Elephants are scattered throughout sub-Saharan Africa, South Asia, and Southeast Asia and are found in different habitats, including savannahs, forests, deserts, and marshes. They are herbivorous, and they stay near water when it is accessible. They are considered to be keystone species, due to their impact on their environments. Elephants have a fission–fusion society, in which multiple family groups come together to socialise. Females (cows) tend to live in family groups, which can consist of one female with her calves or several related females with offspring. The leader of a female group, usually the oldest cow, is known as the matriarch. Males (bulls) leave their family groups when they reach puberty and may live alone or with other males. Adult bulls mostly interact with family groups when looking for a mate. They enter a state of increased testosterone and aggression known as musth, which helps them gain dominance over other males as well as reproductive success. Calves are the centre of attention in their family groups and rely on their mothers for as long as three years. Elephants can live up to 70 years in the wild. They communicate by touch, sight, smell, and sound; elephants use infrasound and seismic communication over long distances. Elephant intelligence has been compared with that of primates and cetaceans. They appear to have self-awareness, and possibly show concern for dying and dead individuals of their kind. African bush elephants and Asian elephants are listed as endangered and African forest elephants as critically endangered by the International Union for Conservation of Nature (IUCN). One of the biggest threats to elephant populations is the ivory trade, as the animals are poached for their ivory tusks. Other threats to wild elephants include habitat destruction and conflicts with local people. Elephants are used as working animals in Asia. In the past, they were used in war; today, they are often controversially put on display in zoos, or exploited for entertainment in circuses. Elephants have an iconic status in human culture and have been featured in art, folklore, religion, literature, and popular culture.\n",
    "\"\"\""
   ]
  },
  {
   "cell_type": "code",
   "execution_count": 29,
   "id": "ff76ab4e-192d-4ae7-b3e9-a061704fa304",
   "metadata": {},
   "outputs": [
    {
     "data": {
      "text/plain": [
       "['What is one of the biggest threats to elephant populations?',\n",
       " 'What is one of the biggest threats to elephants?',\n",
       " 'What are the three living species of elephants currently recognised?']"
      ]
     },
     "execution_count": 29,
     "metadata": {},
     "output_type": "execute_result"
    }
   ],
   "source": [
    "run_model(text)"
   ]
  },
  {
   "cell_type": "code",
   "execution_count": 1,
   "id": "0452e99a-69f1-4ab3-b342-2d12d22647b2",
   "metadata": {},
   "outputs": [],
   "source": [
    "from haystack.document_stores import InMemoryDocumentStore\n",
    "from haystack import Document"
   ]
  },
  {
   "cell_type": "code",
   "execution_count": 2,
   "id": "74ba4489-cfd4-4d91-bfbb-b1b2be62b52f",
   "metadata": {},
   "outputs": [],
   "source": [
    "document_store = InMemoryDocumentStore(use_bm25=True)"
   ]
  },
  {
   "cell_type": "code",
   "execution_count": null,
   "id": "d607a636-0226-41ff-8356-3843217eb88e",
   "metadata": {},
   "outputs": [],
   "source": []
  }
 ],
 "metadata": {
  "kernelspec": {
   "display_name": "Python 3 (ipykernel)",
   "language": "python",
   "name": "python3"
  },
  "language_info": {
   "codemirror_mode": {
    "name": "ipython",
    "version": 3
   },
   "file_extension": ".py",
   "mimetype": "text/x-python",
   "name": "python",
   "nbconvert_exporter": "python",
   "pygments_lexer": "ipython3",
   "version": "3.9.13"
  }
 },
 "nbformat": 4,
 "nbformat_minor": 5
}

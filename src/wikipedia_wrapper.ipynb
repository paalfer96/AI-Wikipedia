{
 "cells": [
  {
   "cell_type": "code",
   "execution_count": 1,
   "id": "48914ee5-53a2-407c-a209-04b87a6f7d97",
   "metadata": {},
   "outputs": [],
   "source": [
    "from urllib.request import urlopen\n",
    "from bs4 import BeautifulSoup\n",
    "import re\n",
    "from urllib.parse import quote\n",
    "from tqdm import tqdm"
   ]
  },
  {
   "cell_type": "code",
   "execution_count": 2,
   "id": "a1c9661e-581a-404f-b05f-9c5211f2ebe1",
   "metadata": {},
   "outputs": [
    {
     "data": {
      "text/plain": [
       "['https://en.wikipedia.org/wiki/Panthera',\n",
       " 'https://en.wikipedia.org/wiki/Ukrainian collaboration with Nazi Germany',\n",
       " 'https://en.wikipedia.org/wiki/Tiger',\n",
       " 'https://en.wikipedia.org/wiki/Smilodon',\n",
       " 'https://en.wikipedia.org/wiki/Liger',\n",
       " 'https://en.wikipedia.org/wiki/Animal Face-Off',\n",
       " 'https://en.wikipedia.org/wiki/MacOS version history',\n",
       " 'https://en.wikipedia.org/wiki/Cougar',\n",
       " 'https://en.wikipedia.org/wiki/MacOS',\n",
       " 'https://en.wikipedia.org/wiki/Panthera hybrid',\n",
       " 'https://en.wikipedia.org/wiki/Tigon',\n",
       " 'https://en.wikipedia.org/wiki/Pantherinae',\n",
       " 'https://en.wikipedia.org/wiki/Ryusuke Taguchi',\n",
       " 'https://en.wikipedia.org/wiki/Jushin Liger',\n",
       " 'https://en.wikipedia.org/wiki/Oncilla']"
      ]
     },
     "execution_count": 2,
     "metadata": {},
     "output_type": "execute_result"
    }
   ],
   "source": [
    "from mainwords import MainWordExtractor\n",
    "from searcher import Searcher\n",
    "\n",
    "sentence = \"Give me the best results for a tiger running againts a lion\"\n",
    "k = 15\n",
    "\n",
    "extractor = MainWordExtractor()\n",
    "ss = Searcher()\n",
    "\n",
    "search = extractor.extract_mainwords_from_sentence(sentence=sentence)\n",
    "url= ss.create_search_element(search, top_k = k)\n",
    "ss.create_article_url(url)"
   ]
  },
  {
   "cell_type": "code",
   "execution_count": 2,
   "id": "ec237b25-6691-4cbc-af40-3f9b467d44f0",
   "metadata": {},
   "outputs": [],
   "source": [
    "search_url = ['https://en.wikipedia.org/wiki/Panthera',\n",
    " 'https://en.wikipedia.org/wiki/Ukrainian collaboration with Nazi Germany',\n",
    " 'https://en.wikipedia.org/wiki/Tiger',\n",
    " 'https://en.wikipedia.org/wiki/Smilodon',\n",
    " 'https://en.wikipedia.org/wiki/Liger',\n",
    " 'https://en.wikipedia.org/wiki/Animal Face-Off',\n",
    " 'https://en.wikipedia.org/wiki/MacOS version history',\n",
    " 'https://en.wikipedia.org/wiki/Cougar',\n",
    " 'https://en.wikipedia.org/wiki/MacOS',\n",
    " 'https://en.wikipedia.org/wiki/Panthera hybrid',\n",
    " 'https://en.wikipedia.org/wiki/Tigon',\n",
    " 'https://en.wikipedia.org/wiki/Pantherinae',\n",
    " 'https://en.wikipedia.org/wiki/Ryusuke Taguchi',\n",
    " 'https://en.wikipedia.org/wiki/Jushin Liger',\n",
    " 'https://en.wikipedia.org/wiki/Oncilla']"
   ]
  },
  {
   "cell_type": "code",
   "execution_count": 3,
   "id": "1d78b301-5206-417a-868f-08ff05b0eae2",
   "metadata": {},
   "outputs": [],
   "source": [
    "from preprocess.cleaner import TextCleaner\n",
    "\n",
    "cleaner = TextCleaner()"
   ]
  },
  {
   "cell_type": "code",
   "execution_count": 4,
   "id": "61a377fa-db50-409e-9dfc-1c54ff023780",
   "metadata": {},
   "outputs": [
    {
     "name": "stderr",
     "output_type": "stream",
     "text": [
      "100%|████████████████████████████████████████████████████████████████████████████████| 15/15 [00:00<00:00, 3003.37it/s]\n"
     ]
    }
   ],
   "source": [
    "bbdd = cleaner.from_urls_to_dict(search_url)"
   ]
  },
  {
   "cell_type": "code",
   "execution_count": 11,
   "id": "cba0b72a-7f23-400d-9d18-4806fc28b4de",
   "metadata": {},
   "outputs": [],
   "source": [
    "hashe = bbdd[50][\"meta\"][\"hash\"]"
   ]
  },
  {
   "cell_type": "code",
   "execution_count": 12,
   "id": "816110f7-52bb-4916-8643-4592881088c0",
   "metadata": {},
   "outputs": [
    {
     "data": {
      "text/plain": [
       "'e6b5e715d0495e14409ba9d82d79dc69320617783e1acbac094123b5542f9aa8'"
      ]
     },
     "execution_count": 12,
     "metadata": {},
     "output_type": "execute_result"
    }
   ],
   "source": [
    "hashe"
   ]
  },
  {
   "cell_type": "code",
   "execution_count": 7,
   "id": "41008541-b3af-4621-a0ba-b9d2ec0fb2cc",
   "metadata": {},
   "outputs": [],
   "source": [
    "from question_generation.question_gen import QuestionGenerator"
   ]
  },
  {
   "cell_type": "code",
   "execution_count": 8,
   "id": "bbe15c77-8e14-4ecb-b079-2182e26a02e9",
   "metadata": {},
   "outputs": [],
   "source": [
    "question_gen = QuestionGenerator()"
   ]
  },
  {
   "cell_type": "code",
   "execution_count": 9,
   "id": "d4cd9fcc-79c0-4313-97ec-8bba5529b26f",
   "metadata": {},
   "outputs": [
    {
     "name": "stderr",
     "output_type": "stream",
     "text": [
      "100%|████████████████████████████████████████████████████████████████████████████████████| 4/4 [00:03<00:00,  1.20it/s]\n"
     ]
    },
    {
     "data": {
      "text/plain": [
       "['What is the sister lineage of the tiger?',\n",
       " 'What is the name of the oldest known panthera species?',\n",
       " 'How many million years ago did the clouded leopard diverge?',\n",
       " 'What does the taxonomic assessment in mammal species of the world reflect?',\n",
       " 'What is the genus neofelis sister to?']"
      ]
     },
     "execution_count": 9,
     "metadata": {},
     "output_type": "execute_result"
    }
   ],
   "source": [
    "question_gen.generate_questions(texts=bbdd , article_hash=hashe, top_k=5)"
   ]
  },
  {
   "cell_type": "code",
   "execution_count": 14,
   "id": "8536b2ef-a5ae-430c-93ba-ffcfbc14a01f",
   "metadata": {},
   "outputs": [
    {
     "name": "stderr",
     "output_type": "stream",
     "text": [
      "100%|████████████████████████████████████████████████████████████████████████████████████| 9/9 [00:08<00:00,  1.11it/s]\n"
     ]
    },
    {
     "data": {
      "text/plain": [
       "['What is the size of smilodon?', 'What are the earliest felids known from?']"
      ]
     },
     "execution_count": 14,
     "metadata": {},
     "output_type": "execute_result"
    }
   ],
   "source": [
    "question_gen.generate_questions(texts=bbdd , article_hash=hashe, top_k=2)"
   ]
  },
  {
   "cell_type": "code",
   "execution_count": 15,
   "id": "02192681-89e3-48b4-8062-10c8505e54fa",
   "metadata": {},
   "outputs": [
    {
     "name": "stderr",
     "output_type": "stream",
     "text": [
      "100%|████████████████████████████████████████████████████████████████████████████████████| 5/5 [00:05<00:00,  1.04s/it]\n"
     ]
    },
    {
     "data": {
      "text/plain": [
       "['What is a large cat native to the americas?',\n",
       " 'What is the most widely distributed large wild terrestrial mammal?']"
      ]
     },
     "execution_count": 15,
     "metadata": {},
     "output_type": "execute_result"
    }
   ],
   "source": [
    "question_gen.generate_questions(texts=bbdd , article_hash=hashe, top_k=2)"
   ]
  },
  {
   "cell_type": "code",
   "execution_count": 1,
   "id": "0452e99a-69f1-4ab3-b342-2d12d22647b2",
   "metadata": {},
   "outputs": [],
   "source": [
    "from haystack.document_stores import InMemoryDocumentStore\n",
    "from haystack import Document"
   ]
  },
  {
   "cell_type": "code",
   "execution_count": 2,
   "id": "74ba4489-cfd4-4d91-bfbb-b1b2be62b52f",
   "metadata": {},
   "outputs": [],
   "source": [
    "document_store = InMemoryDocumentStore(use_bm25=True)"
   ]
  },
  {
   "cell_type": "code",
   "execution_count": null,
   "id": "d607a636-0226-41ff-8356-3843217eb88e",
   "metadata": {},
   "outputs": [],
   "source": []
  }
 ],
 "metadata": {
  "kernelspec": {
   "display_name": "Python 3 (ipykernel)",
   "language": "python",
   "name": "python3"
  },
  "language_info": {
   "codemirror_mode": {
    "name": "ipython",
    "version": 3
   },
   "file_extension": ".py",
   "mimetype": "text/x-python",
   "name": "python",
   "nbconvert_exporter": "python",
   "pygments_lexer": "ipython3",
   "version": "3.9.13"
  }
 },
 "nbformat": 4,
 "nbformat_minor": 5
}

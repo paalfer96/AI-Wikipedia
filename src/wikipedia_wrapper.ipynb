{
 "cells": [
  {
   "cell_type": "code",
   "execution_count": 1,
   "id": "48914ee5-53a2-407c-a209-04b87a6f7d97",
   "metadata": {},
   "outputs": [],
   "source": [
    "from urllib.request import urlopen\n",
    "from bs4 import BeautifulSoup\n",
    "import re\n",
    "from urllib.parse import quote\n",
    "from tqdm import tqdm"
   ]
  },
  {
   "cell_type": "code",
   "execution_count": 2,
   "id": "a1c9661e-581a-404f-b05f-9c5211f2ebe1",
   "metadata": {},
   "outputs": [
    {
     "data": {
      "text/plain": [
       "['https://en.wikipedia.org/wiki/Panthera',\n",
       " 'https://en.wikipedia.org/wiki/Ukrainian collaboration with Nazi Germany',\n",
       " 'https://en.wikipedia.org/wiki/Tiger',\n",
       " 'https://en.wikipedia.org/wiki/Smilodon',\n",
       " 'https://en.wikipedia.org/wiki/Liger',\n",
       " 'https://en.wikipedia.org/wiki/Animal Face-Off',\n",
       " 'https://en.wikipedia.org/wiki/MacOS version history',\n",
       " 'https://en.wikipedia.org/wiki/Cougar',\n",
       " 'https://en.wikipedia.org/wiki/MacOS',\n",
       " 'https://en.wikipedia.org/wiki/Panthera hybrid',\n",
       " 'https://en.wikipedia.org/wiki/Tigon',\n",
       " 'https://en.wikipedia.org/wiki/Pantherinae',\n",
       " 'https://en.wikipedia.org/wiki/Ryusuke Taguchi',\n",
       " 'https://en.wikipedia.org/wiki/Jushin Liger',\n",
       " 'https://en.wikipedia.org/wiki/Oncilla']"
      ]
     },
     "execution_count": 2,
     "metadata": {},
     "output_type": "execute_result"
    }
   ],
   "source": [
    "from mainwords import MainWordExtractor\n",
    "from searcher import Searcher\n",
    "\n",
    "sentence = \"Give me the best results for a tiger running againts a lion\"\n",
    "k = 15\n",
    "\n",
    "extractor = MainWordExtractor()\n",
    "ss = Searcher()\n",
    "\n",
    "search = extractor.extract_mainwords_from_sentence(sentence=sentence)\n",
    "url= ss.create_search_element(search, top_k = k)\n",
    "ss.create_article_url(url)"
   ]
  },
  {
   "cell_type": "code",
   "execution_count": 2,
   "id": "ec237b25-6691-4cbc-af40-3f9b467d44f0",
   "metadata": {},
   "outputs": [],
   "source": [
    "search_url = ['https://en.wikipedia.org/wiki/Panthera',\n",
    " 'https://en.wikipedia.org/wiki/Ukrainian collaboration with Nazi Germany',\n",
    " 'https://en.wikipedia.org/wiki/Tiger',\n",
    " 'https://en.wikipedia.org/wiki/Smilodon',\n",
    " 'https://en.wikipedia.org/wiki/Liger',\n",
    " 'https://en.wikipedia.org/wiki/Animal Face-Off',\n",
    " 'https://en.wikipedia.org/wiki/MacOS version history',\n",
    " 'https://en.wikipedia.org/wiki/Cougar',\n",
    " 'https://en.wikipedia.org/wiki/MacOS',\n",
    " 'https://en.wikipedia.org/wiki/Panthera hybrid',\n",
    " 'https://en.wikipedia.org/wiki/Tigon',\n",
    " 'https://en.wikipedia.org/wiki/Pantherinae',\n",
    " 'https://en.wikipedia.org/wiki/Ryusuke Taguchi',\n",
    " 'https://en.wikipedia.org/wiki/Jushin Liger',\n",
    " 'https://en.wikipedia.org/wiki/Oncilla']"
   ]
  },
  {
   "cell_type": "code",
   "execution_count": 3,
   "id": "1d78b301-5206-417a-868f-08ff05b0eae2",
   "metadata": {},
   "outputs": [],
   "source": [
    "from preprocess.cleaner import TextCleaner\n",
    "\n",
    "cleaner = TextCleaner()"
   ]
  },
  {
   "cell_type": "code",
   "execution_count": 4,
   "id": "61a377fa-db50-409e-9dfc-1c54ff023780",
   "metadata": {},
   "outputs": [
    {
     "name": "stderr",
     "output_type": "stream",
     "text": [
      "100%|████████████████████████████████████████████████████████████████████████████████| 15/15 [00:00<00:00, 2502.37it/s]\n"
     ]
    }
   ],
   "source": [
    "bbdd = cleaner.from_urls_to_dict(search_url)"
   ]
  },
  {
   "cell_type": "code",
   "execution_count": 5,
   "id": "9f8e80b6-1bfa-4463-bea5-e49bc641ebd3",
   "metadata": {},
   "outputs": [],
   "source": [
    "from preprocess.database import DataBase\n",
    "\n",
    "database = DataBase()"
   ]
  },
  {
   "cell_type": "code",
   "execution_count": 6,
   "id": "7ca7c509-94f2-4fe8-aab7-c66154a7c7fb",
   "metadata": {},
   "outputs": [
    {
     "data": {
      "application/vnd.jupyter.widget-view+json": {
       "model_id": "26b85669568246f1bd6a88579d74333d",
       "version_major": 2,
       "version_minor": 0
      },
      "text/plain": [
       "Updating BM25 representation...:   0%|          | 0/115 [00:00<?, ? docs/s]"
      ]
     },
     "metadata": {},
     "output_type": "display_data"
    }
   ],
   "source": [
    "document_store = database.generate_bbdd(bbdd)"
   ]
  },
  {
   "cell_type": "code",
   "execution_count": 7,
   "id": "0ebafa06-b716-4cb1-ac2a-03ced8a93361",
   "metadata": {},
   "outputs": [
    {
     "data": {
      "text/plain": [
       "<haystack.document_stores.memory.InMemoryDocumentStore at 0x1d838f2c190>"
      ]
     },
     "execution_count": 7,
     "metadata": {},
     "output_type": "execute_result"
    }
   ],
   "source": [
    "document_store"
   ]
  },
  {
   "cell_type": "code",
   "execution_count": 8,
   "id": "610a71d1-9422-4006-84b6-4857eac092f9",
   "metadata": {},
   "outputs": [],
   "source": [
    "from question_answering.extractive_qa import ExtractiveQA\n",
    "\n",
    "qa = ExtractiveQA(document_store=document_store)"
   ]
  },
  {
   "cell_type": "code",
   "execution_count": 9,
   "id": "fa632c23-cda6-4fe1-89de-07702dc2b9e0",
   "metadata": {},
   "outputs": [
    {
     "data": {
      "application/vnd.jupyter.widget-view+json": {
       "model_id": "6697195f50e7428f8fb2834b6040bc1b",
       "version_major": 2,
       "version_minor": 0
      },
      "text/plain": [
       "Updating BM25 representation...:   0%|          | 0/5 [00:00<?, ? docs/s]"
      ]
     },
     "metadata": {},
     "output_type": "display_data"
    },
    {
     "name": "stderr",
     "output_type": "stream",
     "text": [
      "D:\\Archivos de programa\\anaconda3\\lib\\site-packages\\torch\\utils\\data\\dataloader.py:645: UserWarning: Length of IterableDataset <transformers.pipelines.pt_utils.PipelineChunkIterator object at 0x000001D81F2551C0> was reported to be 5 (when accessing len(dataloader)), but 6 samples have been fetched. \n",
      "  warnings.warn(warn_msg)\n",
      "D:\\Archivos de programa\\anaconda3\\lib\\site-packages\\torch\\utils\\data\\dataloader.py:645: UserWarning: Length of IterableDataset <transformers.pipelines.pt_utils.PipelineChunkIterator object at 0x000001D81F2551C0> was reported to be 5 (when accessing len(dataloader)), but 7 samples have been fetched. \n",
      "  warnings.warn(warn_msg)\n",
      "D:\\Archivos de programa\\anaconda3\\lib\\site-packages\\torch\\utils\\data\\dataloader.py:645: UserWarning: Length of IterableDataset <transformers.pipelines.pt_utils.PipelineChunkIterator object at 0x000001D81F2551C0> was reported to be 5 (when accessing len(dataloader)), but 8 samples have been fetched. \n",
      "  warnings.warn(warn_msg)\n",
      "D:\\Archivos de programa\\anaconda3\\lib\\site-packages\\torch\\utils\\data\\dataloader.py:645: UserWarning: Length of IterableDataset <transformers.pipelines.pt_utils.PipelineChunkIterator object at 0x000001D81F2551C0> was reported to be 5 (when accessing len(dataloader)), but 9 samples have been fetched. \n",
      "  warnings.warn(warn_msg)\n"
     ]
    }
   ],
   "source": [
    "# Values\n",
    "query  = \"When do the  pleistocene extinctions appeared?\"\n",
    "document_hash = \"e6b5e715d0495e14409ba9d82d79dc69320617783e1acbac094123b5542f9aa8\"\n",
    "\n",
    "\n",
    "responses = qa.answer(question=query,document_hash=document_hash)"
   ]
  },
  {
   "cell_type": "code",
   "execution_count": 10,
   "id": "2a3c169d-9dd7-43d7-9346-8bfe617368cc",
   "metadata": {},
   "outputs": [
    {
     "data": {
      "text/plain": [
       "{'answer': '10,000 years ago',\n",
       " 'context': 'gar population was extirpated during the pleistocene extinctions some 10,000 years ago, when other large mammals, such as smilodon, also disappeared. north '}"
      ]
     },
     "execution_count": 10,
     "metadata": {},
     "output_type": "execute_result"
    }
   ],
   "source": [
    "responses"
   ]
  },
  {
   "cell_type": "code",
   "execution_count": null,
   "id": "c97e3ce7-9574-480d-8019-8693d43c5641",
   "metadata": {},
   "outputs": [],
   "source": []
  },
  {
   "cell_type": "code",
   "execution_count": null,
   "id": "2a896849-3d57-421a-963c-f01553defcc2",
   "metadata": {},
   "outputs": [],
   "source": [
    "from question_answering.search import SemanticSearch"
   ]
  },
  {
   "cell_type": "code",
   "execution_count": 17,
   "id": "03a5713e-1f58-4633-9afa-b6199d00591e",
   "metadata": {},
   "outputs": [
    {
     "data": {
      "text/plain": [
       "{'documents': [<Document: {'content': 'north america as more people entered cougar habitat and built farms. characteristics intensive hunting following european colonization of the americas and ongoing human development into cougar habitat has caused populations to decline in most parts of its historical range. in particular, the eastern cougar population is considered to be mostly locally extinct in eastern north america since the early 20th century, with the exception of the isolated florida panther subpopulation. distribution and habitat the word cougar is borrowed from the portuguese çuçuarana, via french; it was originally derived from the tupi language. a current form in brazil is suçuarana. in the 17th century, georg marcgrave named it cuguacu ara. marcgrave\\'s rendering was reproduced in 1648 by his associate willem piso. cuguacu ara was then adopted by john ray in 1693. in 1774, georges-louis leclerc, comte de buffon converted cuguacu ara to cuguar, which was later modified to \"cougar\" in english. behavior and ecology the cougar holds the guinness record for the animal with the greatest number of names, with over 40 in english alone. \"puma\" is the common name used in latin america and most parts of europe. the term puma is also sometimes used in the united states. the', 'content_type': 'text', 'score': 0.015130138956010342, 'meta': {'title': 'Cougar', 'split_id': '4a3c026855671136b0035e689ad0067806cd710058416fcab171179571280145', 'hash': 'e6b5e715d0495e14409ba9d82d79dc69320617783e1acbac094123b5542f9aa8'}, 'id_hash_keys': ['content'], 'embedding': None, 'id': '7df9facbc7326232f806a95fea3368fa'}>,\n",
       "  <Document: {'content': \"studies to have diverged from the puma lineage in the americas and migrated back to asia and africa, while other research suggests the cheetah diverged in the old world itself. a high level of genetic similarity has been found among north american cougar populations, suggesting they are all fairly recent descendants of a small ancestral group. culver et al. propose the original north american cougar population was extirpated during the pleistocene extinctions some 10,000 years ago, when other large mammals, such as smilodon, also disappeared. north america was then repopulated by south american cougars. references a coprolite identified as from a cougar was excavated in argentina's catamarca province and dated to 17,002–16,573 years old. it contained toxascaris leonina eggs. this finding indicates that the cougar and the parasite existed in south america since at least the late pleistocene. external links\", 'content_type': 'text', 'score': 0.0025214136112481356, 'meta': {'title': 'Cougar', 'split_id': '040811a6aa576e103f3291a5cd42f2b06776f5fa47ece62971df17f6021fb6d6', 'hash': 'e6b5e715d0495e14409ba9d82d79dc69320617783e1acbac094123b5542f9aa8'}, 'id_hash_keys': ['content'], 'embedding': None, 'id': '6255fb9f5433d405b9b8f78240c8c4a'}>,\n",
       "  <Document: {'content': 'taxonomy smilodon is a genus of the extinct machairodont subfamily of the felids. it is one of the best known saber-toothed predators and one of the most famous prehistoric mammals. although commonly known as the saber-toothed tiger, it was not closely related to the tiger or other modern cats. smilodon lived in the americas during the pleistocene epoch (2.5 mya – 10,000 years ago). the genus was named in 1842 based on fossils from brazil; the generic name means \"scalpel\" or \"two-edged knife\" combined with \"tooth\". three species are recognized today: s. gracilis, s. fatalis, and s. populator. the two latter species were probably descended from s. gracilis, which itself probably evolved from megantereon. the hundreds of specimens obtained from the la brea tar pits in los angeles constitute the largest collection of smilodon fossils. evolution overall, smilodon was more robustly built than any extant cat, with particularly well-developed forelimbs and exceptionally long upper canine teeth. its jaw had a bigger gape than that of modern cats, and its upper canines were slender and fragile, being adapted for precision killing. s. gracilis was the smallest species at 55 to 100 kg (120 to 220 lb) in weight. s. fatalis had', 'content_type': 'text', 'score': 8.430434536421672e-05, 'meta': {'title': 'Smilodon', 'split_id': '97e85845c8f98d09b2f76376efc5c0593c0bc4218aaa23564e6dbfa429f0352b', 'hash': '811ace82a6fe01200cff5a556e6308375200273d2711c56631c7b345d77bed80'}, 'id_hash_keys': ['content'], 'embedding': None, 'id': 'c575c7a96283dc605ccd1dddb38e2965'}>,\n",
       "  <Document: {'content': 'data from fossils suggest that the american lion (p. atrox) is a sister lineage to p. spelaea that diverged about 0.34 million years ago. the snow leopard is nested within panthera and is the sister species of the tiger. contemporary species results of a 2016 study based on analysis of biparental nuclear genomes suggest the following relationships of living panthera species: extinct species and subspecies the extinct european jaguar (panthera gombaszogensis), was probably closely related to the modern jaguar. the first fossil remains were excavated in olivola, in italy, and date to 1.6 million years ago. fossil remains found in south africa that appear to belong within the panthera lineage date to about 2 to 3.8 million years ago. phylogeny during the 19th and 20th centuries, various explorers and staff of natural history museums suggested numerous subspecies, or at times called \"races\", for all panthera species. the taxonomist reginald innes pocock reviewed skins and skulls in the zoological collection of the natural history museum, london, and grouped subspecies described, thus shortening the lists considerably. since the mid-1980s, several panthera species became subjects of genetic research, mostly using blood samples of captive individuals. study results indicate that many of the lion', 'content_type': 'text', 'score': 3.7875270209042355e-05, 'meta': {'title': 'Panthera', 'split_id': '2069345f2c91e09c2e3798db5b6d1ea6e5e272f043e7fe66836b700869db91de', 'hash': '795f84ceb8ceaaf044019b85f2d55764067c5a8762ed954da1ee93a301f3bd66'}, 'id_hash_keys': ['content'], 'embedding': None, 'id': 'e6a1937b3690bdeebbab7859ef5e1e3'}>,\n",
       "  <Document: {'content': \"subspecies in 2005: social spacing and interactions in 2006, the florida panther was still referred to as a distinct subspecies p. c. coryi in research works. reproduction and life cycle as of 2017[update], the cat classification taskforce of the cat specialist group recognizes only two subspecies as valid: conservation lynx relationships with humans cheetah a. jubatus attacks on humans cougar in north america jaguarundi h. yagouaroundi in south america felis predation on domestic animals otocolobus in mythology prionailurus see also the family felidae is believed to have originated in asia about 11 million years ago (mya). taxonomic research on felids remains partial, and much of what is known about their evolutionary history is based on mitochondrial dna analysis. significant confidence intervals exist with suggested dates. in the latest genomic study of the felidae, the common ancestor of today's leopardus, lynx, puma, prionailurus, and felis lineages migrated across the bering land bridge into the americas 8.0 to 8.5 million years ago. the lineages subsequently diverged in that order. north american felids then invaded south america 2–4 mya as part of the great american interchange, following the formation of the isthmus of panama. explanatory notes the cheetah lineage is suggested by some\", 'content_type': 'text', 'score': 3.462246240815148e-05, 'meta': {'title': 'Cougar', 'split_id': '322181c86b138a5b7935b91fdfcd6b82d05754b6f0a5e688bbe85af6ba8a73f8', 'hash': 'e6b5e715d0495e14409ba9d82d79dc69320617783e1acbac094123b5542f9aa8'}, 'id_hash_keys': ['content'], 'embedding': None, 'id': 'f493ee2203c995e10fc516c3e03f0fad'}>,\n",
       "  <Document: {'content': 'tiger–snow leopard lineage dispersed in southeast asia during the miocene. relationship with humans panthera zdanskyi is considered to be a sister taxon of the modern tiger. it lived at the beginning of the pleistocene about two million years ago, its fossil remains were excavated in gansu of northwestern china. it was smaller and more \"primitive\", but functionally and ecologically similar to the modern tiger. it is disputed as to whether it had the striping pattern. northwestern china is thought to be the origin of the tiger lineage. tigers grew in size, possibly in response to adaptive radiations of prey species like deer and bovids, which may have occurred in southeast asia during the early pleistocene. tiger hunting panthera tigris trinilensis lived about 1.2 million years ago and is known from fossils excavated near trinil in java. the wanhsien, ngandong, trinil, and japanese tigers became extinct in prehistoric times. tigers reached india and northern asia in the late pleistocene, reaching eastern beringia, japan, and sakhalin. some fossil skulls are morphologically distinct from lion skulls, which could indicate tiger presence in alaska during the last glacial period, about 100,000 years ago. body part use fossil teeth and bones found in borneo were', 'content_type': 'text', 'score': 2.9593278668471612e-05, 'meta': {'title': 'Tiger', 'split_id': '662b04e5b8fae12ecef550f54cac8dcdf937d4bee7df1ac7e465b9253559b56a', 'hash': '3317af71cf92af9754d086e039a1968bc98ee5f4a80363f531b0843108f0bca7'}, 'id_hash_keys': ['content'], 'embedding': None, 'id': '2ae84d3108ba0dd57ea601a9f9620ece'}>,\n",
       "  <Document: {'content': 'a panthera hybrid is a crossbreed between individuals of any of the five species of the genus panthera: the tiger, lion, jaguar, leopard, and snow leopard. most hybrids would not be perpetuated in the wild as the territories of the parental species do not overlap and the males are usually infertile. mitochondrial genome research revealed that wild hybrids were also present in ancient times. the mitochondrial genomes of the snow leopard and the lion were more similar to each other than to other panthera species, indicating that at some point in their history, the female progeny of male ancestors of modern snow leopards and female ancestors of modern lions interbred with male ancestors of modern snow leopards. history in theory, lions and tigers can be matched in the wild and give offspring, but in reality there may be no natural born tigon or liger in the world, because they are separated both geographically, by behavioral differences and lives in different places and do not mate together in the wild. in england, african lions and asian tigresses have been successfully mated, and three lion-tiger hybrid cubs were born in windsor in 1824, which is probably the earliest record, the three cubs', 'content_type': 'text', 'score': 1.6804118786239997e-05, 'meta': {'title': 'Panthera hybrid', 'split_id': 'e02dd0bad111f942a11414d1524b99267db2253e567ca13363b0d7df69880874', 'hash': '7cccf404ea3d43214bb9ba2eb1f574f3c2e8acaeeb6b136c5047c272b94d3402'}, 'id_hash_keys': ['content'], 'embedding': None, 'id': '83f6d1fe7746d93094cb04b26726fd99'}>,\n",
       "  <Document: {'content': 'fibro-elastic pad. these characteristics enable them to roar. only the snow leopard cannot roar, as it has shorter vocal folds of 9 mm (0.35 in) that provide a lower resistance to airflow; it was therefore proposed to be retained in the genus uncia. panthera species can prusten, which is a short, soft, snorting sound; it is used during contact between friendly individuals. the roar is an especially loud call with a distinctive pattern that depends on the species. classification the geographic origin of the panthera is most likely northern central asia. panthera blytheae, the oldest known panthera species, is similar in skull features to the snow leopard. the tiger, snow leopard, and clouded leopard genetic lineages dispersed in southeast asia during the miocene. genetic studies indicate that the pantherine cats diverged from the subfamily felinae between six and ten million years ago. the genus neofelis is sister to panthera. the clouded leopard appears to have diverged about 8.66 million years ago. panthera diverged from other cat species about 11.3 million years ago and then evolved into the species tiger about 6.55 million years ago, snow leopard about 4.63 million years ago and leopard about 4.35 million years ago. mitochondrial sequence', 'content_type': 'text', 'score': 1.6730960851418786e-05, 'meta': {'title': 'Panthera', 'split_id': '689ac9ac0f470964333e01d44aafb3070418b7d1c02f12f8ff14d57eaf6ecb81', 'hash': '795f84ceb8ceaaf044019b85f2d55764067c5a8762ed954da1ee93a301f3bd66'}, 'id_hash_keys': ['content'], 'embedding': None, 'id': '4424b3c8f0f296438476d7262bbb3fea'}>,\n",
       "  <Document: {'content': \"heavyweight tag team champion, won the super j cup twice (in 1995 and 2000), and was inducted into the wrestling observer newsletter hall of fame in 1999. liger also wrestled the opening match for the first january 4 tokyo dome show in 1992, as well as the first ever match on wcw monday nitro. he is frequently cited as one of the greatest junior heavyweight wrestlers of all time. he was also inducted into the wwe hall of fame class of 2020. all star wrestling (1986–1987, 1989, 2014) liger had his retirement match at wrestle kingdom 14 on january 5, 2020, 35 years after his career began. stampede wrestling (1987, 1989) keiichi yamada was born in hiroshima on november 10, 1964. he was an amateur wrestler during his high school years. in his senior year, he lost to toshiaki kawada in the finals of a national championship tournament. after graduating high school in the early 1980s, he would apply to new japan pro-wrestling's (njpw) dojo in the hope of becoming a professional wrestler. he was not accepted because he did not meet the height requirements the dojo had at that time. yamada, determined not to give up his dream of\", 'content_type': 'text', 'score': 1.3296608813107014e-05, 'meta': {'title': 'Jushin Liger', 'split_id': 'b2a40d0a1218d125f24ce2809d8b912f0fc9520490575b9d21786433ba8090e0', 'hash': 'ad367ff9ed6915c8b7beddcaee04a716793ac624540d547fa83db2fe1e27bf02'}, 'id_hash_keys': ['content'], 'embedding': None, 'id': '2250e0a6282eed0a9c97652b33f6d0bb'}>,\n",
       "  <Document: {'content': 'frequent. timeline of macintosh operating systems mac os x 10.1 (internally codenamed puma) was released on september 25, 2001. it has better performance and provided missing features, such as dvd playback. apple released 10.1 as a free upgrade cd for 10.0 users. apple released a us$129 upgrade cd for mac os 9. see also on january 7, 2002, apple announced that mac os x was to be the default operating system for all macintosh products by the end of that month. references on august 23, 2002, apple followed up with mac os x 10.2 jaguar, the first release to use its code name as part of the branding. it brought great raw performance improvements, a sleeker look, and many powerful user-interface enhancements (over 150, according to apple ), including quartz extreme for compositing graphics directly on an ati radeon or nvidia geforce2 mx agp-based video card with at least 16 mb of vram, a system-wide repository for contact information in the new address book, and an instant messaging client named ichat. the happy mac which had appeared during the mac os startup sequence for almost 18 years was replaced with a large grey apple logo with the introduction of mac', 'content_type': 'text', 'score': 1.2350852557574399e-05, 'meta': {'title': 'MacOS version history', 'split_id': 'af310c803149f59853f9265ac12345d34f7f5319bb88ff9b015a11c42a4b71e4', 'hash': 'dd822fd142d66cc5c82c86739af3b596bf9ec55ea8c04c3daac88e71adb16a60'}, 'id_hash_keys': ['content'], 'embedding': None, 'id': '227271793bad224d4fb3b8d960534a07'}>],\n",
       " 'root_node': 'Query',\n",
       " 'params': {'BM25Retriever': {'top_k': 10}, 'Ranker': {'top_k': 10}},\n",
       " 'query': 'Give me information about the colonization of the americas',\n",
       " 'node_id': 'Ranker'}"
      ]
     },
     "execution_count": 17,
     "metadata": {},
     "output_type": "execute_result"
    }
   ],
   "source": [
    "query = \"Give me information about the colonization of the americas\"\n",
    "searcher.search(query=query)"
   ]
  },
  {
   "cell_type": "code",
   "execution_count": 8,
   "id": "dc82adc5-034b-4311-a43c-14e300873928",
   "metadata": {},
   "outputs": [],
   "source": [
    "from haystack.nodes import BM25Retriever, SentenceTransformersRanker\n",
    "from haystack import Pipeline"
   ]
  },
  {
   "cell_type": "code",
   "execution_count": 9,
   "id": "1bdf822e-34e6-48b4-89b2-707e4725acc2",
   "metadata": {},
   "outputs": [
    {
     "name": "stderr",
     "output_type": "stream",
     "text": [
      "D:\\Archivos de programa\\anaconda3\\lib\\site-packages\\torch\\_utils.py:776: UserWarning: TypedStorage is deprecated. It will be removed in the future and UntypedStorage will be the only storage class. This should only matter to you if you are using storages directly.  To access UntypedStorage directly, use tensor.untyped_storage() instead of tensor.storage()\n",
      "  return self.fget.__get__(instance, owner)()\n"
     ]
    }
   ],
   "source": [
    "retriever = BM25Retriever(document_store)\n",
    "ranker = SentenceTransformersRanker(model_name_or_path=\"cross-encoder/ms-marco-MiniLM-L-12-v2\")\n",
    "\n",
    "p = Pipeline()\n",
    "p.add_node(component=retriever, name=\"BM25Retriever\", inputs=[\"Query\"])\n",
    "p.add_node(component=ranker, name=\"Ranker\", inputs=[\"BM25Retriever\"])"
   ]
  },
  {
   "cell_type": "code",
   "execution_count": 15,
   "id": "4457778d-533a-4ded-8446-04e2873ce78e",
   "metadata": {},
   "outputs": [
    {
     "data": {
      "text/plain": [
       "{'documents': [<Document: {'content': 'north america as more people entered cougar habitat and built farms. characteristics intensive hunting following european colonization of the americas and ongoing human development into cougar habitat has caused populations to decline in most parts of its historical range. in particular, the eastern cougar population is considered to be mostly locally extinct in eastern north america since the early 20th century, with the exception of the isolated florida panther subpopulation. distribution and habitat the word cougar is borrowed from the portuguese çuçuarana, via french; it was originally derived from the tupi language. a current form in brazil is suçuarana. in the 17th century, georg marcgrave named it cuguacu ara. marcgrave\\'s rendering was reproduced in 1648 by his associate willem piso. cuguacu ara was then adopted by john ray in 1693. in 1774, georges-louis leclerc, comte de buffon converted cuguacu ara to cuguar, which was later modified to \"cougar\" in english. behavior and ecology the cougar holds the guinness record for the animal with the greatest number of names, with over 40 in english alone. \"puma\" is the common name used in latin america and most parts of europe. the term puma is also sometimes used in the united states. the', 'content_type': 'text', 'score': 0.015130138956010342, 'meta': {'title': 'Cougar', 'split_id': '4a3c026855671136b0035e689ad0067806cd710058416fcab171179571280145', 'hash': 'e6b5e715d0495e14409ba9d82d79dc69320617783e1acbac094123b5542f9aa8'}, 'id_hash_keys': ['content'], 'embedding': None, 'id': '7df9facbc7326232f806a95fea3368fa'}>,\n",
       "  <Document: {'content': \"studies to have diverged from the puma lineage in the americas and migrated back to asia and africa, while other research suggests the cheetah diverged in the old world itself. a high level of genetic similarity has been found among north american cougar populations, suggesting they are all fairly recent descendants of a small ancestral group. culver et al. propose the original north american cougar population was extirpated during the pleistocene extinctions some 10,000 years ago, when other large mammals, such as smilodon, also disappeared. north america was then repopulated by south american cougars. references a coprolite identified as from a cougar was excavated in argentina's catamarca province and dated to 17,002–16,573 years old. it contained toxascaris leonina eggs. this finding indicates that the cougar and the parasite existed in south america since at least the late pleistocene. external links\", 'content_type': 'text', 'score': 0.0025214136112481356, 'meta': {'title': 'Cougar', 'split_id': '040811a6aa576e103f3291a5cd42f2b06776f5fa47ece62971df17f6021fb6d6', 'hash': 'e6b5e715d0495e14409ba9d82d79dc69320617783e1acbac094123b5542f9aa8'}, 'id_hash_keys': ['content'], 'embedding': None, 'id': '6255fb9f5433d405b9b8f78240c8c4a'}>,\n",
       "  <Document: {'content': 'taxonomy smilodon is a genus of the extinct machairodont subfamily of the felids. it is one of the best known saber-toothed predators and one of the most famous prehistoric mammals. although commonly known as the saber-toothed tiger, it was not closely related to the tiger or other modern cats. smilodon lived in the americas during the pleistocene epoch (2.5 mya – 10,000 years ago). the genus was named in 1842 based on fossils from brazil; the generic name means \"scalpel\" or \"two-edged knife\" combined with \"tooth\". three species are recognized today: s. gracilis, s. fatalis, and s. populator. the two latter species were probably descended from s. gracilis, which itself probably evolved from megantereon. the hundreds of specimens obtained from the la brea tar pits in los angeles constitute the largest collection of smilodon fossils. evolution overall, smilodon was more robustly built than any extant cat, with particularly well-developed forelimbs and exceptionally long upper canine teeth. its jaw had a bigger gape than that of modern cats, and its upper canines were slender and fragile, being adapted for precision killing. s. gracilis was the smallest species at 55 to 100 kg (120 to 220 lb) in weight. s. fatalis had', 'content_type': 'text', 'score': 8.430434536421672e-05, 'meta': {'title': 'Smilodon', 'split_id': '97e85845c8f98d09b2f76376efc5c0593c0bc4218aaa23564e6dbfa429f0352b', 'hash': '811ace82a6fe01200cff5a556e6308375200273d2711c56631c7b345d77bed80'}, 'id_hash_keys': ['content'], 'embedding': None, 'id': 'c575c7a96283dc605ccd1dddb38e2965'}>,\n",
       "  <Document: {'content': 'data from fossils suggest that the american lion (p. atrox) is a sister lineage to p. spelaea that diverged about 0.34 million years ago. the snow leopard is nested within panthera and is the sister species of the tiger. contemporary species results of a 2016 study based on analysis of biparental nuclear genomes suggest the following relationships of living panthera species: extinct species and subspecies the extinct european jaguar (panthera gombaszogensis), was probably closely related to the modern jaguar. the first fossil remains were excavated in olivola, in italy, and date to 1.6 million years ago. fossil remains found in south africa that appear to belong within the panthera lineage date to about 2 to 3.8 million years ago. phylogeny during the 19th and 20th centuries, various explorers and staff of natural history museums suggested numerous subspecies, or at times called \"races\", for all panthera species. the taxonomist reginald innes pocock reviewed skins and skulls in the zoological collection of the natural history museum, london, and grouped subspecies described, thus shortening the lists considerably. since the mid-1980s, several panthera species became subjects of genetic research, mostly using blood samples of captive individuals. study results indicate that many of the lion', 'content_type': 'text', 'score': 3.7875270209042355e-05, 'meta': {'title': 'Panthera', 'split_id': '2069345f2c91e09c2e3798db5b6d1ea6e5e272f043e7fe66836b700869db91de', 'hash': '795f84ceb8ceaaf044019b85f2d55764067c5a8762ed954da1ee93a301f3bd66'}, 'id_hash_keys': ['content'], 'embedding': None, 'id': 'e6a1937b3690bdeebbab7859ef5e1e3'}>,\n",
       "  <Document: {'content': \"subspecies in 2005: social spacing and interactions in 2006, the florida panther was still referred to as a distinct subspecies p. c. coryi in research works. reproduction and life cycle as of 2017[update], the cat classification taskforce of the cat specialist group recognizes only two subspecies as valid: conservation lynx relationships with humans cheetah a. jubatus attacks on humans cougar in north america jaguarundi h. yagouaroundi in south america felis predation on domestic animals otocolobus in mythology prionailurus see also the family felidae is believed to have originated in asia about 11 million years ago (mya). taxonomic research on felids remains partial, and much of what is known about their evolutionary history is based on mitochondrial dna analysis. significant confidence intervals exist with suggested dates. in the latest genomic study of the felidae, the common ancestor of today's leopardus, lynx, puma, prionailurus, and felis lineages migrated across the bering land bridge into the americas 8.0 to 8.5 million years ago. the lineages subsequently diverged in that order. north american felids then invaded south america 2–4 mya as part of the great american interchange, following the formation of the isthmus of panama. explanatory notes the cheetah lineage is suggested by some\", 'content_type': 'text', 'score': 3.462246240815148e-05, 'meta': {'title': 'Cougar', 'split_id': '322181c86b138a5b7935b91fdfcd6b82d05754b6f0a5e688bbe85af6ba8a73f8', 'hash': 'e6b5e715d0495e14409ba9d82d79dc69320617783e1acbac094123b5542f9aa8'}, 'id_hash_keys': ['content'], 'embedding': None, 'id': 'f493ee2203c995e10fc516c3e03f0fad'}>,\n",
       "  <Document: {'content': 'tiger–snow leopard lineage dispersed in southeast asia during the miocene. relationship with humans panthera zdanskyi is considered to be a sister taxon of the modern tiger. it lived at the beginning of the pleistocene about two million years ago, its fossil remains were excavated in gansu of northwestern china. it was smaller and more \"primitive\", but functionally and ecologically similar to the modern tiger. it is disputed as to whether it had the striping pattern. northwestern china is thought to be the origin of the tiger lineage. tigers grew in size, possibly in response to adaptive radiations of prey species like deer and bovids, which may have occurred in southeast asia during the early pleistocene. tiger hunting panthera tigris trinilensis lived about 1.2 million years ago and is known from fossils excavated near trinil in java. the wanhsien, ngandong, trinil, and japanese tigers became extinct in prehistoric times. tigers reached india and northern asia in the late pleistocene, reaching eastern beringia, japan, and sakhalin. some fossil skulls are morphologically distinct from lion skulls, which could indicate tiger presence in alaska during the last glacial period, about 100,000 years ago. body part use fossil teeth and bones found in borneo were', 'content_type': 'text', 'score': 2.9593278668471612e-05, 'meta': {'title': 'Tiger', 'split_id': '662b04e5b8fae12ecef550f54cac8dcdf937d4bee7df1ac7e465b9253559b56a', 'hash': '3317af71cf92af9754d086e039a1968bc98ee5f4a80363f531b0843108f0bca7'}, 'id_hash_keys': ['content'], 'embedding': None, 'id': '2ae84d3108ba0dd57ea601a9f9620ece'}>,\n",
       "  <Document: {'content': 'a panthera hybrid is a crossbreed between individuals of any of the five species of the genus panthera: the tiger, lion, jaguar, leopard, and snow leopard. most hybrids would not be perpetuated in the wild as the territories of the parental species do not overlap and the males are usually infertile. mitochondrial genome research revealed that wild hybrids were also present in ancient times. the mitochondrial genomes of the snow leopard and the lion were more similar to each other than to other panthera species, indicating that at some point in their history, the female progeny of male ancestors of modern snow leopards and female ancestors of modern lions interbred with male ancestors of modern snow leopards. history in theory, lions and tigers can be matched in the wild and give offspring, but in reality there may be no natural born tigon or liger in the world, because they are separated both geographically, by behavioral differences and lives in different places and do not mate together in the wild. in england, african lions and asian tigresses have been successfully mated, and three lion-tiger hybrid cubs were born in windsor in 1824, which is probably the earliest record, the three cubs', 'content_type': 'text', 'score': 1.6804118786239997e-05, 'meta': {'title': 'Panthera hybrid', 'split_id': 'e02dd0bad111f942a11414d1524b99267db2253e567ca13363b0d7df69880874', 'hash': '7cccf404ea3d43214bb9ba2eb1f574f3c2e8acaeeb6b136c5047c272b94d3402'}, 'id_hash_keys': ['content'], 'embedding': None, 'id': '83f6d1fe7746d93094cb04b26726fd99'}>,\n",
       "  <Document: {'content': 'fibro-elastic pad. these characteristics enable them to roar. only the snow leopard cannot roar, as it has shorter vocal folds of 9 mm (0.35 in) that provide a lower resistance to airflow; it was therefore proposed to be retained in the genus uncia. panthera species can prusten, which is a short, soft, snorting sound; it is used during contact between friendly individuals. the roar is an especially loud call with a distinctive pattern that depends on the species. classification the geographic origin of the panthera is most likely northern central asia. panthera blytheae, the oldest known panthera species, is similar in skull features to the snow leopard. the tiger, snow leopard, and clouded leopard genetic lineages dispersed in southeast asia during the miocene. genetic studies indicate that the pantherine cats diverged from the subfamily felinae between six and ten million years ago. the genus neofelis is sister to panthera. the clouded leopard appears to have diverged about 8.66 million years ago. panthera diverged from other cat species about 11.3 million years ago and then evolved into the species tiger about 6.55 million years ago, snow leopard about 4.63 million years ago and leopard about 4.35 million years ago. mitochondrial sequence', 'content_type': 'text', 'score': 1.6730960851418786e-05, 'meta': {'title': 'Panthera', 'split_id': '689ac9ac0f470964333e01d44aafb3070418b7d1c02f12f8ff14d57eaf6ecb81', 'hash': '795f84ceb8ceaaf044019b85f2d55764067c5a8762ed954da1ee93a301f3bd66'}, 'id_hash_keys': ['content'], 'embedding': None, 'id': '4424b3c8f0f296438476d7262bbb3fea'}>,\n",
       "  <Document: {'content': \"heavyweight tag team champion, won the super j cup twice (in 1995 and 2000), and was inducted into the wrestling observer newsletter hall of fame in 1999. liger also wrestled the opening match for the first january 4 tokyo dome show in 1992, as well as the first ever match on wcw monday nitro. he is frequently cited as one of the greatest junior heavyweight wrestlers of all time. he was also inducted into the wwe hall of fame class of 2020. all star wrestling (1986–1987, 1989, 2014) liger had his retirement match at wrestle kingdom 14 on january 5, 2020, 35 years after his career began. stampede wrestling (1987, 1989) keiichi yamada was born in hiroshima on november 10, 1964. he was an amateur wrestler during his high school years. in his senior year, he lost to toshiaki kawada in the finals of a national championship tournament. after graduating high school in the early 1980s, he would apply to new japan pro-wrestling's (njpw) dojo in the hope of becoming a professional wrestler. he was not accepted because he did not meet the height requirements the dojo had at that time. yamada, determined not to give up his dream of\", 'content_type': 'text', 'score': 1.3296608813107014e-05, 'meta': {'title': 'Jushin Liger', 'split_id': 'b2a40d0a1218d125f24ce2809d8b912f0fc9520490575b9d21786433ba8090e0', 'hash': 'ad367ff9ed6915c8b7beddcaee04a716793ac624540d547fa83db2fe1e27bf02'}, 'id_hash_keys': ['content'], 'embedding': None, 'id': '2250e0a6282eed0a9c97652b33f6d0bb'}>,\n",
       "  <Document: {'content': 'frequent. timeline of macintosh operating systems mac os x 10.1 (internally codenamed puma) was released on september 25, 2001. it has better performance and provided missing features, such as dvd playback. apple released 10.1 as a free upgrade cd for 10.0 users. apple released a us$129 upgrade cd for mac os 9. see also on january 7, 2002, apple announced that mac os x was to be the default operating system for all macintosh products by the end of that month. references on august 23, 2002, apple followed up with mac os x 10.2 jaguar, the first release to use its code name as part of the branding. it brought great raw performance improvements, a sleeker look, and many powerful user-interface enhancements (over 150, according to apple ), including quartz extreme for compositing graphics directly on an ati radeon or nvidia geforce2 mx agp-based video card with at least 16 mb of vram, a system-wide repository for contact information in the new address book, and an instant messaging client named ichat. the happy mac which had appeared during the mac os startup sequence for almost 18 years was replaced with a large grey apple logo with the introduction of mac', 'content_type': 'text', 'score': 1.2350852557574399e-05, 'meta': {'title': 'MacOS version history', 'split_id': 'af310c803149f59853f9265ac12345d34f7f5319bb88ff9b015a11c42a4b71e4', 'hash': 'dd822fd142d66cc5c82c86739af3b596bf9ec55ea8c04c3daac88e71adb16a60'}, 'id_hash_keys': ['content'], 'embedding': None, 'id': '227271793bad224d4fb3b8d960534a07'}>],\n",
       " 'root_node': 'Query',\n",
       " 'params': {'BM25Retriever': {'top_k': 10}, 'Ranker': {'top_k': 10}},\n",
       " 'query': 'Give me information about the colonization of the americas',\n",
       " 'node_id': 'Ranker'}"
      ]
     },
     "execution_count": 15,
     "metadata": {},
     "output_type": "execute_result"
    }
   ],
   "source": [
    "p.run(\n",
    "     query= \"Give me information about the colonization of the americas\",\n",
    "     params = {\n",
    "             \"BM25Retriever\": {\"top_k\": 10} ,\n",
    "             \"Ranker\": {\"top_k\": 10}\n",
    "              }\n",
    "     )"
   ]
  },
  {
   "cell_type": "code",
   "execution_count": null,
   "id": "cc783072-4d41-4b49-91f7-940c0683ff22",
   "metadata": {},
   "outputs": [],
   "source": []
  },
  {
   "cell_type": "code",
   "execution_count": null,
   "id": "55f371de-ec68-4ba5-954b-09da8a5a25d9",
   "metadata": {},
   "outputs": [],
   "source": []
  },
  {
   "cell_type": "code",
   "execution_count": null,
   "id": "256e12d2-6777-4261-9099-5224c7097149",
   "metadata": {},
   "outputs": [],
   "source": []
  },
  {
   "cell_type": "code",
   "execution_count": null,
   "id": "a17a43a4-d046-4077-83d0-c7d7d07c5eec",
   "metadata": {},
   "outputs": [],
   "source": []
  },
  {
   "cell_type": "code",
   "execution_count": null,
   "id": "acc5fe11-8352-4d5c-ad38-a52f8104322c",
   "metadata": {},
   "outputs": [],
   "source": []
  },
  {
   "cell_type": "code",
   "execution_count": 11,
   "id": "cba0b72a-7f23-400d-9d18-4806fc28b4de",
   "metadata": {},
   "outputs": [],
   "source": [
    "hashe = bbdd[50][\"meta\"][\"hash\"]"
   ]
  },
  {
   "cell_type": "code",
   "execution_count": 12,
   "id": "816110f7-52bb-4916-8643-4592881088c0",
   "metadata": {},
   "outputs": [
    {
     "data": {
      "text/plain": [
       "'e6b5e715d0495e14409ba9d82d79dc69320617783e1acbac094123b5542f9aa8'"
      ]
     },
     "execution_count": 12,
     "metadata": {},
     "output_type": "execute_result"
    }
   ],
   "source": [
    "hashe"
   ]
  },
  {
   "cell_type": "code",
   "execution_count": 7,
   "id": "41008541-b3af-4621-a0ba-b9d2ec0fb2cc",
   "metadata": {},
   "outputs": [],
   "source": [
    "from question_generation.question_gen import QuestionGenerator"
   ]
  },
  {
   "cell_type": "code",
   "execution_count": 8,
   "id": "bbe15c77-8e14-4ecb-b079-2182e26a02e9",
   "metadata": {},
   "outputs": [],
   "source": [
    "question_gen = QuestionGenerator()"
   ]
  },
  {
   "cell_type": "code",
   "execution_count": 9,
   "id": "d4cd9fcc-79c0-4313-97ec-8bba5529b26f",
   "metadata": {},
   "outputs": [
    {
     "name": "stderr",
     "output_type": "stream",
     "text": [
      "100%|████████████████████████████████████████████████████████████████████████████████████| 4/4 [00:03<00:00,  1.20it/s]\n"
     ]
    },
    {
     "data": {
      "text/plain": [
       "['What is the sister lineage of the tiger?',\n",
       " 'What is the name of the oldest known panthera species?',\n",
       " 'How many million years ago did the clouded leopard diverge?',\n",
       " 'What does the taxonomic assessment in mammal species of the world reflect?',\n",
       " 'What is the genus neofelis sister to?']"
      ]
     },
     "execution_count": 9,
     "metadata": {},
     "output_type": "execute_result"
    }
   ],
   "source": [
    "question_gen.generate_questions(texts=bbdd , article_hash=hashe, top_k=5)"
   ]
  },
  {
   "cell_type": "code",
   "execution_count": 14,
   "id": "8536b2ef-a5ae-430c-93ba-ffcfbc14a01f",
   "metadata": {},
   "outputs": [
    {
     "name": "stderr",
     "output_type": "stream",
     "text": [
      "100%|████████████████████████████████████████████████████████████████████████████████████| 9/9 [00:08<00:00,  1.11it/s]\n"
     ]
    },
    {
     "data": {
      "text/plain": [
       "['What is the size of smilodon?', 'What are the earliest felids known from?']"
      ]
     },
     "execution_count": 14,
     "metadata": {},
     "output_type": "execute_result"
    }
   ],
   "source": [
    "question_gen.generate_questions(texts=bbdd , article_hash=hashe, top_k=2)"
   ]
  },
  {
   "cell_type": "code",
   "execution_count": 15,
   "id": "02192681-89e3-48b4-8062-10c8505e54fa",
   "metadata": {},
   "outputs": [
    {
     "name": "stderr",
     "output_type": "stream",
     "text": [
      "100%|████████████████████████████████████████████████████████████████████████████████████| 5/5 [00:05<00:00,  1.04s/it]\n"
     ]
    },
    {
     "data": {
      "text/plain": [
       "['What is a large cat native to the americas?',\n",
       " 'What is the most widely distributed large wild terrestrial mammal?']"
      ]
     },
     "execution_count": 15,
     "metadata": {},
     "output_type": "execute_result"
    }
   ],
   "source": [
    "question_gen.generate_questions(texts=bbdd , article_hash=hashe, top_k=2)"
   ]
  },
  {
   "cell_type": "code",
   "execution_count": 5,
   "id": "0452e99a-69f1-4ab3-b342-2d12d22647b2",
   "metadata": {},
   "outputs": [],
   "source": [
    "from haystack.document_stores import InMemoryDocumentStore\n",
    "from haystack import Document"
   ]
  },
  {
   "cell_type": "code",
   "execution_count": 6,
   "id": "74ba4489-cfd4-4d91-bfbb-b1b2be62b52f",
   "metadata": {},
   "outputs": [],
   "source": [
    "document_store = InMemoryDocumentStore(use_bm25=True)"
   ]
  },
  {
   "cell_type": "code",
   "execution_count": 7,
   "id": "d607a636-0226-41ff-8356-3843217eb88e",
   "metadata": {},
   "outputs": [
    {
     "data": {
      "application/vnd.jupyter.widget-view+json": {
       "model_id": "cc7b5cc58e7b4e15a127827e7c15bcad",
       "version_major": 2,
       "version_minor": 0
      },
      "text/plain": [
       "Updating BM25 representation...:   0%|          | 0/115 [00:00<?, ? docs/s]"
      ]
     },
     "metadata": {},
     "output_type": "display_data"
    }
   ],
   "source": [
    "document_store.write_documents(bbdd)"
   ]
  },
  {
   "cell_type": "code",
   "execution_count": 9,
   "id": "805c0596-b143-4417-bd00-3b305501cbc9",
   "metadata": {},
   "outputs": [],
   "source": [
    "document_store.get_all_documents()"
   ]
  },
  {
   "cell_type": "code",
   "execution_count": null,
   "id": "a4ea51df-d195-4c0d-819a-d5c45b13fe20",
   "metadata": {},
   "outputs": [],
   "source": []
  }
 ],
 "metadata": {
  "kernelspec": {
   "display_name": "Python 3 (ipykernel)",
   "language": "python",
   "name": "python3"
  },
  "language_info": {
   "codemirror_mode": {
    "name": "ipython",
    "version": 3
   },
   "file_extension": ".py",
   "mimetype": "text/x-python",
   "name": "python",
   "nbconvert_exporter": "python",
   "pygments_lexer": "ipython3",
   "version": "3.9.13"
  }
 },
 "nbformat": 4,
 "nbformat_minor": 5
}
